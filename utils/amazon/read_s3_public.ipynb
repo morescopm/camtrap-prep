{
 "cells": [
  {
   "cell_type": "code",
   "execution_count": 5,
   "metadata": {},
   "outputs": [],
   "source": [
    "import requests\n",
    "import pandas as pd\n",
    "from xml.etree import ElementTree"
   ]
  },
  {
   "cell_type": "markdown",
   "metadata": {},
   "source": [
    "Parse Public File to Extract All"
   ]
  },
  {
   "cell_type": "code",
   "execution_count": 4,
   "metadata": {},
   "outputs": [
    {
     "name": "stdout",
     "output_type": "stream",
     "text": [
      "Keys have been saved to s3_keys.csv\n"
     ]
    }
   ],
   "source": [
    "\n",
    "bucket_name = 'urbanriverrangers'\n",
    "base_url = f'https://{bucket_name}.s3.amazonaws.com'\n",
    "\n",
    "    \n",
    "def list_objects(bucket_url, continuation_token=None):\n",
    "    params = {'list-type': '2'}  # Use list-type=2 for continuation token support\n",
    "    if continuation_token:\n",
    "        params['continuation-token'] = continuation_token\n",
    "\n",
    "    response = requests.get(bucket_url, params=params)\n",
    "    response.raise_for_status()  # Ensure we get a successful response\n",
    "\n",
    "    return response.text\n",
    "\n",
    "def parse_objects(xml_response):\n",
    "    root = ElementTree.fromstring(xml_response)\n",
    "    # Define the namespace\n",
    "    namespace = {'ns': 'http://s3.amazonaws.com/doc/2006-03-01/'}\n",
    "    data = []\n",
    "    for item in root.findall('.//ns:Contents', namespace):\n",
    "        row = {\n",
    "            'Key': item.find('ns:Key', namespace).text,\n",
    "            'ETag': item.find('ns:ETag', namespace).text,\n",
    "            'LastModified': item.find('ns:LastModified', namespace).text\n",
    "        }\n",
    "        data.append(row)\n",
    "\n",
    "    next_token = root.find('.//{http://s3.amazonaws.com/doc/2006-03-01/}NextContinuationToken')\n",
    "    return data, next_token.text if next_token is not None else None\n",
    "\n",
    "continuation_token = None\n",
    "all_data = []\n",
    "\n",
    "while True:\n",
    "    xml_response = list_objects(base_url, continuation_token)\n",
    "    data, continuation_token = parse_objects(xml_response)\n",
    "    all_data.extend(data)\n",
    "    \n",
    "    if continuation_token is None:\n",
    "        break\n",
    "\n",
    "# Store keys in a pandas DataFrame\n",
    "df = pd.DataFrame(all_data, columns=['Key','ETag','LastModified'])\n",
    "\n",
    "# Save the DataFrame to a CSV file\n",
    "csv_file = 's3_keys.csv'\n",
    "df.to_csv(csv_file, index=False)\n",
    "\n",
    "print(f\"Keys have been saved to {csv_file}\")\n"
   ]
  },
  {
   "cell_type": "code",
   "execution_count": null,
   "metadata": {},
   "outputs": [],
   "source": [
    "# Step 2: Parse the XML generated in s3_keys (also df) into a media table?\n",
    "# Alternately, we could do this right after filtering"
   ]
  },
  {
   "cell_type": "code",
   "execution_count": null,
   "metadata": {},
   "outputs": [],
   "source": [
    "# Step 3: Grab Exif Information"
   ]
  }
 ],
 "metadata": {
  "kernelspec": {
   "display_name": "camtrap",
   "language": "python",
   "name": "python3"
  },
  "language_info": {
   "codemirror_mode": {
    "name": "ipython",
    "version": 3
   },
   "file_extension": ".py",
   "mimetype": "text/x-python",
   "name": "python",
   "nbconvert_exporter": "python",
   "pygments_lexer": "ipython3",
   "version": "3.9.6"
  }
 },
 "nbformat": 4,
 "nbformat_minor": 2
}
