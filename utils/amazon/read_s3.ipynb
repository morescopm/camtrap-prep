{
 "cells": [
  {
   "cell_type": "code",
   "execution_count": 1,
   "metadata": {},
   "outputs": [],
   "source": [
    "import requests\n",
    "import xml.etree.ElementTree as ET\n",
    "import pandas as pd\n",
    "from PIL import Image\n",
    "from PIL.ExifTags import TAGS\n",
    "from io import BytesIO"
   ]
  },
  {
   "cell_type": "code",
   "execution_count": 5,
   "metadata": {},
   "outputs": [
    {
     "name": "stdout",
     "output_type": "stream",
     "text": [
      "Media data saved to media.csv\n"
     ]
    }
   ],
   "source": [
    "# Step 1: Download the XML file\n",
    "url = 'https://urbanriverrangers.s3.us-east-2.amazonaws.com/'  # Update with actual URL if needed\n",
    "response = requests.get(url)\n",
    "xml_content = response.content\n",
    "\n",
    "# Step 2: Parse the XML file\n",
    "root = ET.fromstring(xml_content)\n",
    "\n",
    "# Define the namespace\n",
    "namespace = {'ns': 'http://s3.amazonaws.com/doc/2006-03-01/'}\n",
    "\n",
    "# Step 3: Extract data and convert to DataFrame\n",
    "data = []\n",
    "for item in root.findall('.//ns:Contents', namespace):\n",
    "    row = {\n",
    "        'Key': item.find('ns:Key', namespace).text,\n",
    "        'URL': '=Image(\"https://urbanriverrangers.s3.us-east-2.amazonaws.com/\"'+item.find('ns:Key', namespace).text+'\",1)',\n",
    "        'ETag': item.find('ns:ETag', namespace).text,\n",
    "        'Size': item.find('ns:Size', namespace).text\n",
    "    }\n",
    "    data.append(row)\n",
    "\n",
    "media_df = pd.DataFrame(data)\n",
    "\n",
    "# Save the DataFrame to a CSV file\n",
    "csv_filename = 'media.csv'\n",
    "media_df.to_csv(csv_filename, index=False)\n",
    "print(f\"Media data saved to {csv_filename}\")"
   ]
  },
  {
   "cell_type": "code",
   "execution_count": null,
   "metadata": {},
   "outputs": [],
   "source": [
    "\n",
    "# Define the base URL for the public S3 bucket\n",
    "base_url = 'https://urbanriverrangers.s3.us-east-2.amazonaws.com/'\n",
    "\n",
    "\n",
    "# Function to extract metadata using Pillow\n",
    "def extract_metadata_from_image(image):\n",
    "    exif_data = {}\n",
    "    if hasattr(image, '_getexif'):  # Check if image has EXIF data\n",
    "        exif_info = image._getexif()\n",
    "        if exif_info is not None:\n",
    "            for tag, value in exif_info.items():\n",
    "                tag_name = TAGS.get(tag, tag)\n",
    "                exif_data[tag_name] = value\n",
    "    return exif_data\n",
    "\n",
    "# Extract metadata for each image\n",
    "metadata_list = []\n",
    "for key in media_df['Key']:\n",
    "    # Download the image from the public S3 URL into memory\n",
    "    response = requests.get(base_url + key)\n",
    "    response.raise_for_status()  # Ensure the request was successful\n",
    "    file_content = response.content\n",
    "    \n",
    "    try:\n",
    "        # Open the image using Pillow\n",
    "        image = Image.open(BytesIO(file_content))\n",
    "        \n",
    "        # Check if the image format is supported\n",
    "        if image.format is None:\n",
    "            raise ValueError(\"Unsupported image format\")\n",
    "        \n",
    "        # Extract metadata\n",
    "        metadata = extract_metadata_from_image(image)\n",
    "        metadata['Key'] = key  # Include the Key in the metadata\n",
    "        metadata_list.append(metadata)\n",
    "    except (IOError, ValueError) as e:\n",
    "        print(f\"Error processing image '{key}': {e}\")\n",
    "\n",
    "# Create a DataFrame from the metadata\n",
    "metadata_df = pd.DataFrame(metadata_list)\n",
    "\n",
    "\n",
    "# Save the DataFrame to a CSV file\n",
    "csv_filename = 'metadata.csv'\n",
    "metadata_df.to_csv(csv_filename, index=False)\n",
    "print(f\"Metadata saved to {csv_filename}\")"
   ]
  }
 ],
 "metadata": {
  "kernelspec": {
   "display_name": "camtrap",
   "language": "python",
   "name": "python3"
  },
  "language_info": {
   "codemirror_mode": {
    "name": "ipython",
    "version": 3
   },
   "file_extension": ".py",
   "mimetype": "text/x-python",
   "name": "python",
   "nbconvert_exporter": "python",
   "pygments_lexer": "ipython3",
   "version": "3.9.6"
  }
 },
 "nbformat": 4,
 "nbformat_minor": 2
}
